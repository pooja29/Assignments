{
 "cells": [
  {
   "cell_type": "markdown",
   "id": "fb385ede-2a57-4967-a123-3cde71392ea5",
   "metadata": {},
   "source": [
    "Q.1. What are keywords in python? Using the keyword library, print all the python keywords."
   ]
  },
  {
   "cell_type": "markdown",
   "id": "88b577af-e7f0-414b-a86a-8118f8f1eea3",
   "metadata": {},
   "source": [
    "Kerwords in python are reserved words that cannot be used as ordinary identifiers. They are used to define the syntax and structure of the python language. The code for printing all the python keyords is below:"
   ]
  },
  {
   "cell_type": "code",
   "execution_count": 1,
   "id": "f635391b-894c-411a-8fb6-21c2d1a407ce",
   "metadata": {},
   "outputs": [
    {
     "name": "stdout",
     "output_type": "stream",
     "text": [
      "['False', 'None', 'True', 'and', 'as', 'assert', 'async', 'await', 'break', 'class', 'continue', 'def', 'del', 'elif', 'else', 'except', 'finally', 'for', 'from', 'global', 'if', 'import', 'in', 'is', 'lambda', 'nonlocal', 'not', 'or', 'pass', 'raise', 'return', 'try', 'while', 'with', 'yield']\n"
     ]
    }
   ],
   "source": [
    "import keyword\n",
    "print(keyword.kwlist)"
   ]
  },
  {
   "cell_type": "markdown",
   "id": "6b890419-7030-4b1d-a6c4-7b283cb834d5",
   "metadata": {},
   "source": [
    "<br>"
   ]
  },
  {
   "cell_type": "markdown",
   "id": "c70814ca-21ba-4a63-b74e-0c6ad52a6d3d",
   "metadata": {},
   "source": [
    "Q.2. What are the rules to create variables in python?"
   ]
  },
  {
   "cell_type": "markdown",
   "id": "2883ae03-7aa5-4ac7-b0b1-42cc04a2c685",
   "metadata": {},
   "source": [
    "- A variable name must start with a letter or the underscore character\n",
    "- A variable name cannot start with a number\n",
    "- A variable name can only contain alpha-numeric characters and underscores (A-z, 0-9, and _ )\n",
    "- Variable names are case-sensitive (age, Age and AGE are three different variables)"
   ]
  },
  {
   "cell_type": "markdown",
   "id": "811184ef-8ee4-429c-9608-8502a49970bb",
   "metadata": {},
   "source": [
    "<br>"
   ]
  },
  {
   "cell_type": "markdown",
   "id": "63da1655-4bf1-4a8c-802c-5c7f52f902cf",
   "metadata": {},
   "source": [
    "Q.3. What are the standards and conventions followed for the nomenclature of variables in\n",
    "python to improve code readability and maintainability?"
   ]
  },
  {
   "cell_type": "markdown",
   "id": "26d3e3d3-1a89-4219-b831-61df243baf48",
   "metadata": {},
   "source": [
    "Use grammatically correct variable names, the class name should start with an uppercase and must follow camelCase convention If more than two words are to be used. In the same way, a function name should be joined with an underscore, and it must be lowercase. I"
   ]
  },
  {
   "cell_type": "markdown",
   "id": "c2412a97-0d1b-4c9e-8fc2-4ce0f28aae91",
   "metadata": {},
   "source": [
    "<br> "
   ]
  },
  {
   "cell_type": "markdown",
   "id": "dd29fdaa-4eaa-4396-8324-b4de0e63f5b8",
   "metadata": {},
   "source": [
    "Q.4. What will happen if a keyword is used as a variable name?"
   ]
  },
  {
   "cell_type": "markdown",
   "id": "84066ad3-4094-4d65-ab8d-acdaf2280805",
   "metadata": {},
   "source": [
    "It will give syntax error."
   ]
  },
  {
   "cell_type": "markdown",
   "id": "5df043ba-3459-44a5-8e8c-a843376bf686",
   "metadata": {},
   "source": [
    "<br> "
   ]
  },
  {
   "cell_type": "markdown",
   "id": "2e501969-f1b0-47d7-885a-e08a141003ea",
   "metadata": {},
   "source": [
    "Q.5. For what purpose def keyword is used?"
   ]
  },
  {
   "cell_type": "markdown",
   "id": "e2ca93bd-9faf-4135-9b31-a69a6513d2fc",
   "metadata": {},
   "source": [
    "The def keyword is used to create, (or define) a function."
   ]
  },
  {
   "cell_type": "markdown",
   "id": "3ca1168f-8225-4931-ab29-171da7278ee5",
   "metadata": {},
   "source": [
    "<br> "
   ]
  },
  {
   "cell_type": "markdown",
   "id": "94ff8456-4e34-4783-8009-4048424d8e80",
   "metadata": {},
   "source": [
    "Q.6. What is the operation of this special character ‘\\’?"
   ]
  },
  {
   "cell_type": "markdown",
   "id": "94fb96ba-25b8-485b-a224-d215c3b89625",
   "metadata": {},
   "source": [
    "\\ is a special character, also called the \"escape\" character. It is used in representing certain whitespace characters: \"\\t\" is a tab, \"\\n\" is a newline, and \"\\r\" is a carriage return."
   ]
  },
  {
   "cell_type": "markdown",
   "id": "cdbd530d-cc5b-46e1-96d6-265cdb00eb78",
   "metadata": {},
   "source": [
    "<br> "
   ]
  },
  {
   "cell_type": "markdown",
   "id": "91d2375c-c6e9-491e-8c21-61b9402e375b",
   "metadata": {},
   "source": [
    "Q.7. Give an example of the following conditions:<br> \n",
    "(i) Homogeneous list <br> \n",
    "(ii) Heterogeneous set <br> \n",
    "(iii) Homogeneous tuple"
   ]
  },
  {
   "cell_type": "markdown",
   "id": "c2810cd8-a44f-4d63-bc17-c2e80108d485",
   "metadata": {},
   "source": [
    "(i) [1, 2, 3, 4] <br> \n",
    "(ii) [23, 'poo', 79.4]<br> \n",
    "(iii) (1, 2, 3, 4)"
   ]
  },
  {
   "cell_type": "markdown",
   "id": "bfe9cbb4-45d3-4c70-ae0b-d1e6ec7e570e",
   "metadata": {},
   "source": [
    "<br> "
   ]
  },
  {
   "cell_type": "markdown",
   "id": "ff5e3098-ac2c-4cc7-a45e-a72cdde49467",
   "metadata": {},
   "source": [
    "Q.8. Explain the mutable and immutable data types with proper explanation & examples."
   ]
  },
  {
   "cell_type": "markdown",
   "id": "a5dc76cc-6a2d-47d8-9287-38567f312515",
   "metadata": {},
   "source": [
    "A data type that allows you to change its values without changing its identity is a mutable data type. Lists, dictionaries, and sets are examples of mutable data types. Mutable data type can change their contents by incorporating the assignment operators or the indexing operators.<br>\n",
    "Below is the example of list which is mutable data type:"
   ]
  },
  {
   "cell_type": "code",
   "execution_count": 8,
   "id": "bfc279b6-4fa1-4a1e-9888-01c0f876bff9",
   "metadata": {},
   "outputs": [
    {
     "name": "stdout",
     "output_type": "stream",
     "text": [
      "['ineuron', 'Python', 1, 2.3, True]\n",
      "['ineuron', 'Python', 1, 2.3, False]\n"
     ]
    }
   ],
   "source": [
    "# Creating a list and printing it \n",
    "list_1 = ['ineuron', 'Python', 1, 2.3, True]  \n",
    "print(list_1)  \n",
    "  \n",
    "# Changing value at index 5 and printing it \n",
    "list_1[4] = False  \n",
    "print(list_1)  "
   ]
  },
  {
   "cell_type": "markdown",
   "id": "20f67b83-d8ab-489e-8cbe-f39973c0b2c1",
   "metadata": {},
   "source": [
    "<br>"
   ]
  },
  {
   "cell_type": "markdown",
   "id": "f500e17a-2573-456e-be72-cb07899b660c",
   "metadata": {},
   "source": [
    "A data type that does not allow you to change its values without changing its identity is an immutable data type. Integers, Strings and tuples are examples of immutable data types. Immutable data type cannot change their contents by incorporating the assignment operators or the indexing operators.<br>\n",
    "Below is the example of tuple which is immuatable data type:"
   ]
  },
  {
   "cell_type": "code",
   "execution_count": 47,
   "id": "39ccb438-1263-4b93-905f-8c9cd237893a",
   "metadata": {},
   "outputs": [
    {
     "name": "stdout",
     "output_type": "stream",
     "text": [
      "(1, 2, 3, 4)\n"
     ]
    },
    {
     "ename": "TypeError",
     "evalue": "'tuple' object does not support item assignment",
     "output_type": "error",
     "traceback": [
      "\u001b[0;31m---------------------------------------------------------------------------\u001b[0m",
      "\u001b[0;31mTypeError\u001b[0m                                 Traceback (most recent call last)",
      "Cell \u001b[0;32mIn [47], line 6\u001b[0m\n\u001b[1;32m      3\u001b[0m \u001b[38;5;28mprint\u001b[39m(tuple_1)\n\u001b[1;32m      5\u001b[0m \u001b[38;5;66;03m# Changing value at index 5 and printing it \u001b[39;00m\n\u001b[0;32m----> 6\u001b[0m \u001b[43mtuple_1\u001b[49m\u001b[43m[\u001b[49m\u001b[38;5;241;43m1\u001b[39;49m\u001b[43m]\u001b[49m\u001b[38;5;241m=\u001b[39m \u001b[38;5;241m6\u001b[39m\n",
      "\u001b[0;31mTypeError\u001b[0m: 'tuple' object does not support item assignment"
     ]
    }
   ],
   "source": [
    "# Creating a tuple and printing it \n",
    "tuple_1 = (1,2,3,4)\n",
    "print(tuple_1)\n",
    "\n",
    "# Changing value at index 5 and printing it \n",
    "tuple_1[1]= 6"
   ]
  },
  {
   "cell_type": "markdown",
   "id": "24ef9001-a173-4bf7-af7d-1aa06c3d07a6",
   "metadata": {},
   "source": [
    "<br>"
   ]
  },
  {
   "cell_type": "markdown",
   "id": "153fad11-ae02-4690-8dd9-06320b923219",
   "metadata": {},
   "source": [
    "Q.9. Write a code to create the given structure using only for loop.<br>\n",
    "*<br>\n",
    "***<br>\n",
    "*****<br>\n",
    "*******<br>\n",
    "*********<br>"
   ]
  },
  {
   "cell_type": "code",
   "execution_count": 56,
   "id": "7fc767f2-1bce-41a1-8064-a1a937edec12",
   "metadata": {},
   "outputs": [
    {
     "name": "stdout",
     "output_type": "stream",
     "text": [
      "          \n",
      "\n",
      "        * \n",
      "\n",
      "      * * * \n",
      "\n",
      "    * * * * * \n",
      "\n",
      "  * * * * * * * \n",
      "\n",
      "* * * * * * * * * \n",
      "\n"
     ]
    }
   ],
   "source": [
    "def star_pyramid(n):\n",
    "     \n",
    "    # number of spaces at the start of each line\n",
    "    n = n + 1\n",
    "    k = n - 1\n",
    "    # for loop to print numer of rows\n",
    "    for i in range(0, n):\n",
    "        # for loop to print space\n",
    "        for j in range(0, k):\n",
    "            print(end=\"  \")\n",
    "        k = k - 1\n",
    "        # for loop to print stars\n",
    "    \n",
    "        for j in range(2*i-1):\n",
    "            print(\"* \", end=\"\")\n",
    "        print(\"\\n\")\n",
    " \n",
    "n = 5 # input nuber of rows\n",
    "star_pyramid(n)"
   ]
  },
  {
   "cell_type": "markdown",
   "id": "4387e83e-237e-443d-8b22-a5c7e8d83cb2",
   "metadata": {},
   "source": [
    "<br>"
   ]
  },
  {
   "cell_type": "markdown",
   "id": "79022b58-f198-4f7c-b410-72528996795c",
   "metadata": {},
   "source": [
    "Q.10. Write a code to create the given structure using while loop.\n",
    "|||||||||<br>\n",
    " |||||||<br>\n",
    "  |||||<br>\n",
    "   |||<br>\n",
    "    |<br>"
   ]
  },
  {
   "cell_type": "code",
   "execution_count": 55,
   "id": "a2d73e13-5884-46d3-9be2-be7bbf277cbe",
   "metadata": {},
   "outputs": [
    {
     "name": "stdout",
     "output_type": "stream",
     "text": [
      "| | | | | | | | | \n",
      "  | | | | | | | \n",
      "    | | | | | \n",
      "      | | | \n",
      "        | \n"
     ]
    }
   ],
   "source": [
    "def inv_pyramid(p):\n",
    "    p = p + 1\n",
    "    for a in range(p, 1, -1):\n",
    "        for space in range(0, p-a):\n",
    "            print(\"  \", end=\"\")\n",
    "        for b in range(a, 2*a-1):\n",
    "            print(\"| \", end=\"\")\n",
    "        for b in range(1, a-1):\n",
    "            print(\"| \", end=\"\")\n",
    "        print()\n",
    "\n",
    "p = 5 # input nuber of rows\n",
    "inv_pyramid(p)"
   ]
  }
 ],
 "metadata": {
  "kernelspec": {
   "display_name": "Python 3 (ipykernel)",
   "language": "python",
   "name": "python3"
  },
  "language_info": {
   "codemirror_mode": {
    "name": "ipython",
    "version": 3
   },
   "file_extension": ".py",
   "mimetype": "text/x-python",
   "name": "python",
   "nbconvert_exporter": "python",
   "pygments_lexer": "ipython3",
   "version": "3.10.6"
  }
 },
 "nbformat": 4,
 "nbformat_minor": 5
}
