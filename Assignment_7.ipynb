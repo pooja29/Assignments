{
 "cells": [
  {
   "cell_type": "markdown",
   "id": "ed156615-0898-4911-ad63-44c132bba73e",
   "metadata": {},
   "source": [
    "Q.1. Create two int type variables, apply addition, subtraction, division and multiplications\n",
    "and store the results in variables. Then print the data in the following format by calling the\n",
    "variables:<br>\n",
    "First variable is __ & second variable is __.<br>\n",
    "Addition: __ + __ = __<br>\n",
    "Subtraction: __ - __ = __<br>\n",
    "Multiplication: __ * __ = __<br>\n",
    "Division: __ / __ = __"
   ]
  },
  {
   "cell_type": "code",
   "execution_count": 11,
   "id": "fd4ae779-96e3-45a6-a132-6d8088e18496",
   "metadata": {},
   "outputs": [
    {
     "name": "stdout",
     "output_type": "stream",
     "text": [
      "First variable is 8 & second variable is 4 .\n",
      "Addition:  8  +  4  =  12\n",
      "Subtraction:  8  -  4  =  4\n",
      "Multiplication:  8  +  4  =  32\n",
      "Division:  8  +  4  =  2.0\n"
     ]
    }
   ],
   "source": [
    "# Creating two integer variables\n",
    "a = 8\n",
    "b = 4\n",
    "\n",
    "# Adding the variables\n",
    "addn = 8 + 4\n",
    "\n",
    "# Subtracting the variables\n",
    "subn = 8 - 4\n",
    "\n",
    "# Multiplying the variables\n",
    "muln = 8 * 4\n",
    "\n",
    "# Dividing the variables\n",
    "divn = 8 / 4\n",
    "\n",
    "# Printing the results\n",
    "print(\"First variable is\", a, \"& second variable is\", b, \".\")\n",
    "print(\"Addition: \", a, \" + \", b, \" = \", addn)\n",
    "print(\"Subtraction: \", a, \" - \", b, \" = \", subn)\n",
    "print(\"Multiplication: \", a, \" + \", b, \" = \", muln)\n",
    "print(\"Division: \", a, \" + \", b, \" = \", divn)"
   ]
  },
  {
   "cell_type": "markdown",
   "id": "402c386f-ec88-479b-8b1e-b459a7a5f158",
   "metadata": {},
   "source": [
    "<br>"
   ]
  },
  {
   "cell_type": "markdown",
   "id": "f6263f70-8d3d-4fcf-8833-a4b6578f1ab0",
   "metadata": {},
   "source": [
    "Q.2. What is the difference between the following operators:<br>\n",
    "(i) ‘/’ & ‘//’<br>\n",
    "(ii) ‘**’ & ‘^’"
   ]
  },
  {
   "cell_type": "markdown",
   "id": "f8f0e083-44ea-4c8d-bb0e-7d50a97760fc",
   "metadata": {},
   "source": [
    "(i) The ‘/’ single slash carries out the float division whereas the ‘//’ double slash carries out integer division which is also known as floor division. The output of '/' operator is always a quotient with a float datatype. The output remains float even if the input numbers are integer values. Even the sign of the input operands doesn’t matter about the output. The output of '//' operator will be the quotient rounded off to the closest whole number.\n",
    "\n",
    "(ii) ** is the exponentiation operator, and ^ is the XOR operator. Using a double asterisk(**) before the argument will allow you to pass a variable number of keyword parameters in the function. XOR(^) is the bitwise XOR of the two numbers. In other words, write each number in binary, then take XOR of the two numbers one place at a time."
   ]
  },
  {
   "cell_type": "markdown",
   "id": "19276510-93f8-4aca-9091-757e08e10af6",
   "metadata": {},
   "source": [
    "<br>"
   ]
  },
  {
   "cell_type": "markdown",
   "id": "8c19fc51-faf5-4af5-9c98-ed04bde031d7",
   "metadata": {},
   "source": [
    "Q.3. List the logical operators."
   ]
  },
  {
   "cell_type": "markdown",
   "id": "dd31d5ce-de78-4048-bf5b-e6b425a04c76",
   "metadata": {},
   "source": [
    "There are 3 logical operators: and, or, not"
   ]
  },
  {
   "cell_type": "markdown",
   "id": "d83e5e88-fe02-40ca-8350-6f45a3ee8b26",
   "metadata": {},
   "source": [
    "<br>"
   ]
  },
  {
   "cell_type": "markdown",
   "id": "f4183274-c815-4798-b418-f7c3b81bec57",
   "metadata": {},
   "source": [
    "Q.4. Explain right shift operator and left shift operator with examples."
   ]
  },
  {
   "cell_type": "markdown",
   "id": "feb1db8c-410c-4adc-84f7-dbcfdcf4ec6d",
   "metadata": {},
   "source": [
    "Bitwise right shift: Shifts the bits of the number to the right and fills 0 on voids left( fills 1 in the case of a negative number) as a result. Similar effect as of dividing the number with some power of two."
   ]
  },
  {
   "cell_type": "code",
   "execution_count": 36,
   "id": "e9e6f65d-47c8-4f86-9306-9baf727064a5",
   "metadata": {},
   "outputs": [
    {
     "name": "stdout",
     "output_type": "stream",
     "text": [
      "a =  0b1111  =  15\n",
      "b =  0b11  =  3\n"
     ]
    }
   ],
   "source": [
    "a = 15 \n",
    "b = a >> 2 \n",
    "print(\"a = \", bin(a), \" = \", a)\n",
    "print(\"b = \",bin(b), \" = \", b)"
   ]
  },
  {
   "cell_type": "markdown",
   "id": "02e5d29a-6d71-4e24-a38d-a99a9b949071",
   "metadata": {},
   "source": [
    "<br>"
   ]
  },
  {
   "cell_type": "markdown",
   "id": "c1998204-8651-4f18-9f82-1a0dae4ec1d4",
   "metadata": {},
   "source": [
    "Bitwise left shift: Shifts the bits of the number to the left and fills 0 on voids right as a result. Similar effect as of multiplying the number with some power of two."
   ]
  },
  {
   "cell_type": "code",
   "execution_count": 37,
   "id": "dcd3fe45-d267-4081-8dbf-f20b331e22f9",
   "metadata": {},
   "outputs": [
    {
     "name": "stdout",
     "output_type": "stream",
     "text": [
      "a =  0b1111  =  15\n",
      "b =  0b111100  =  60\n"
     ]
    }
   ],
   "source": [
    "a = 15 \n",
    "b = a << 2 \n",
    "print(\"a = \", bin(a), \" = \", a)\n",
    "print(\"b = \",bin(b), \" = \", b)"
   ]
  },
  {
   "cell_type": "markdown",
   "id": "6e7dcfa7-7f3d-4020-a809-c1926fc3d5c4",
   "metadata": {},
   "source": [
    "<br>"
   ]
  },
  {
   "cell_type": "markdown",
   "id": "21c9757d-2d14-4b21-afa1-f3d388092c0f",
   "metadata": {},
   "source": [
    "Q.5. Create a list containing int type data of length 15. Then write a code to check if 10 is\n",
    "present in the list or not."
   ]
  },
  {
   "cell_type": "code",
   "execution_count": 38,
   "id": "76370d93-ba01-4c05-9a90-4a356f1eaf6b",
   "metadata": {},
   "outputs": [
    {
     "name": "stdout",
     "output_type": "stream",
     "text": [
      "10 exists in the list.\n"
     ]
    }
   ],
   "source": [
    "# Creating list of length 15\n",
    "list_1 = list(range(1,16))\n",
    "\n",
    "# Checking if 10 is present in list\n",
    "if 10 in list_1:\n",
    "    print(\"10 exists in the list.\")\n",
    "else:\n",
    "    print(\"10 does not exist in the list.\")"
   ]
  }
 ],
 "metadata": {
  "kernelspec": {
   "display_name": "Python 3 (ipykernel)",
   "language": "python",
   "name": "python3"
  },
  "language_info": {
   "codemirror_mode": {
    "name": "ipython",
    "version": 3
   },
   "file_extension": ".py",
   "mimetype": "text/x-python",
   "name": "python",
   "nbconvert_exporter": "python",
   "pygments_lexer": "ipython3",
   "version": "3.10.6"
  }
 },
 "nbformat": 4,
 "nbformat_minor": 5
}
